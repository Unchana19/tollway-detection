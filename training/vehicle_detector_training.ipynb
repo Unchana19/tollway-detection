{
 "cells": [
  {
   "cell_type": "markdown",
   "metadata": {},
   "source": [
    "# Install library"
   ]
  },
  {
   "cell_type": "code",
   "execution_count": null,
   "metadata": {},
   "outputs": [],
   "source": [
    "%pip install roboflow\n",
    "%pip install ultralytics"
   ]
  },
  {
   "cell_type": "markdown",
   "metadata": {},
   "source": [
    "# Get dataset"
   ]
  },
  {
   "cell_type": "code",
   "execution_count": 1,
   "metadata": {},
   "outputs": [],
   "source": [
    "import os\n",
    "from dotenv import load_dotenv\n",
    "\n",
    "load_dotenv()\n",
    "\n",
    "ROBOFLOW_API_KEY = os.environ.get(\"ROBOFLOW_API_KEY\")\n",
    "\n",
    "if not ROBOFLOW_API_KEY:\n",
    "  raise ValueError(\"ROBOFLOW_API_KEY not found in environment variables. Please check your .env file.\")"
   ]
  },
  {
   "cell_type": "code",
   "execution_count": 2,
   "metadata": {},
   "outputs": [
    {
     "name": "stdout",
     "output_type": "stream",
     "text": [
      "loading Roboflow workspace...\n",
      "loading Roboflow project...\n"
     ]
    },
    {
     "name": "stderr",
     "output_type": "stream",
     "text": [
      "Downloading Dataset Version Zip in tollway-detection-1 to yolov12:: 100%|██████████| 99663/99663 [00:10<00:00, 9416.23it/s] "
     ]
    },
    {
     "name": "stdout",
     "output_type": "stream",
     "text": [
      "\n"
     ]
    },
    {
     "name": "stderr",
     "output_type": "stream",
     "text": [
      "\n",
      "Extracting Dataset Version Zip to tollway-detection-1 in yolov12:: 100%|██████████| 2090/2090 [00:02<00:00, 824.07it/s]\n"
     ]
    }
   ],
   "source": [
    "from roboflow import Roboflow\n",
    "\n",
    "rf = Roboflow(api_key=ROBOFLOW_API_KEY)\n",
    "project = rf.workspace(\"deeprod\").project(\"tollway-detection\")\n",
    "version = project.version(1)\n",
    "dataset = version.download(\"yolov12\")\n",
    "                "
   ]
  },
  {
   "cell_type": "markdown",
   "metadata": {},
   "source": [
    "# Train model"
   ]
  },
  {
   "cell_type": "code",
   "execution_count": 3,
   "metadata": {},
   "outputs": [
    {
     "name": "stdout",
     "output_type": "stream",
     "text": [
      "^C\n"
     ]
    },
    {
     "name": "stdout",
     "output_type": "stream",
     "text": [
      "Downloading https://github.com/ultralytics/assets/releases/download/v8.3.0/yolo12n.pt to 'yolo12n.pt'...\n",
      "New https://pypi.org/project/ultralytics/8.3.88 available 😃 Update with 'pip install -U ultralytics'\n",
      "Ultralytics 8.3.85 🚀 Python-3.12.3 torch-2.6.0+cpu CPU (AMD Ryzen 7 4800H with Radeon Graphics)\n",
      "\u001b[34m\u001b[1mengine\\trainer: \u001b[0mtask=detect, mode=train, model=yolo12n.pt, data=c:\\trollway-detection\\training\\tollway-detection-1/data.yaml, epochs=100, time=None, patience=100, batch=16, imgsz=640, save=True, save_period=-1, cache=False, device=None, workers=8, project=None, name=train, exist_ok=False, pretrained=True, optimizer=auto, verbose=True, seed=0, deterministic=True, single_cls=False, rect=False, cos_lr=False, close_mosaic=10, resume=False, amp=True, fraction=1.0, profile=False, freeze=None, multi_scale=False, overlap_mask=True, mask_ratio=4, dropout=0.0, val=True, split=val, save_json=False, save_hybrid=False, conf=None, iou=0.7, max_det=300, half=False, dnn=False, plots=True, source=None, vid_stride=1, stream_buffer=False, visualize=False, augment=False, agnostic_nms=False, classes=None, retina_masks=False, embed=None, show=False, save_frames=False, save_txt=False, save_conf=False, save_crop=False, show_labels=True, show_conf=True, show_boxes=True, line_width=None, format=torchscript, keras=False, optimize=False, int8=False, dynamic=False, simplify=True, opset=None, workspace=None, nms=False, lr0=0.01, lrf=0.01, momentum=0.937, weight_decay=0.0005, warmup_epochs=3.0, warmup_momentum=0.8, warmup_bias_lr=0.1, box=7.5, cls=0.5, dfl=1.5, pose=12.0, kobj=1.0, nbs=64, hsv_h=0.015, hsv_s=0.7, hsv_v=0.4, degrees=0.0, translate=0.1, scale=0.5, shear=0.0, perspective=0.0, flipud=0.0, fliplr=0.5, bgr=0.0, mosaic=1.0, mixup=0.0, copy_paste=0.0, copy_paste_mode=flip, auto_augment=randaugment, erasing=0.4, crop_fraction=1.0, cfg=None, tracker=botsort.yaml, save_dir=runs\\detect\\train\n",
      "Overriding model.yaml nc=80 with nc=4\n",
      "\n",
      "                   from  n    params  module                                       arguments                     \n",
      "  0                  -1  1       464  ultralytics.nn.modules.conv.Conv             [3, 16, 3, 2]                 \n",
      "  1                  -1  1      4672  ultralytics.nn.modules.conv.Conv             [16, 32, 3, 2]                \n",
      "  2                  -1  1      6640  ultralytics.nn.modules.block.C3k2            [32, 64, 1, False, 0.25]      \n",
      "  3                  -1  1     36992  ultralytics.nn.modules.conv.Conv             [64, 64, 3, 2]                \n",
      "  4                  -1  1     26080  ultralytics.nn.modules.block.C3k2            [64, 128, 1, False, 0.25]     \n",
      "  5                  -1  1    147712  ultralytics.nn.modules.conv.Conv             [128, 128, 3, 2]              \n",
      "  6                  -1  2    180864  ultralytics.nn.modules.block.A2C2f           [128, 128, 2, True, 4]        \n",
      "  7                  -1  1    295424  ultralytics.nn.modules.conv.Conv             [128, 256, 3, 2]              \n",
      "  8                  -1  2    689408  ultralytics.nn.modules.block.A2C2f           [256, 256, 2, True, 1]        \n",
      "  9                  -1  1         0  torch.nn.modules.upsampling.Upsample         [None, 2, 'nearest']          \n",
      " 10             [-1, 6]  1         0  ultralytics.nn.modules.conv.Concat           [1]                           \n",
      " 11                  -1  1     86912  ultralytics.nn.modules.block.A2C2f           [384, 128, 1, False, -1]      \n",
      " 12                  -1  1         0  torch.nn.modules.upsampling.Upsample         [None, 2, 'nearest']          \n",
      " 13             [-1, 4]  1         0  ultralytics.nn.modules.conv.Concat           [1]                           \n",
      " 14                  -1  1     24000  ultralytics.nn.modules.block.A2C2f           [256, 64, 1, False, -1]       \n",
      " 15                  -1  1     36992  ultralytics.nn.modules.conv.Conv             [64, 64, 3, 2]                \n",
      " 16            [-1, 11]  1         0  ultralytics.nn.modules.conv.Concat           [1]                           \n",
      " 17                  -1  1     74624  ultralytics.nn.modules.block.A2C2f           [192, 128, 1, False, -1]      \n",
      " 18                  -1  1    147712  ultralytics.nn.modules.conv.Conv             [128, 128, 3, 2]              \n",
      " 19             [-1, 8]  1         0  ultralytics.nn.modules.conv.Concat           [1]                           \n",
      " 20                  -1  1    378880  ultralytics.nn.modules.block.C3k2            [384, 256, 1, True]           \n",
      " 21        [14, 17, 20]  1    431452  ultralytics.nn.modules.head.Detect           [4, [64, 128, 256]]           \n",
      "YOLOv12n summary: 272 layers, 2,568,828 parameters, 2,568,812 gradients, 6.5 GFLOPs\n",
      "\n",
      "Transferred 640/691 items from pretrained weights\n",
      "Freezing layer 'model.21.dfl.conv.weight'\n",
      "\u001b[34m\u001b[1mtrain: \u001b[0mNew cache created: C:\\trollway-detection\\training\\tollway-detection-1\\train\\labels.cache\n",
      "\u001b[34m\u001b[1mval: \u001b[0mNew cache created: C:\\trollway-detection\\training\\tollway-detection-1\\valid\\labels.cache\n",
      "Plotting labels to runs\\detect\\train\\labels.jpg... \n",
      "\u001b[34m\u001b[1moptimizer:\u001b[0m 'optimizer=auto' found, ignoring 'lr0=0.01' and 'momentum=0.937' and determining best 'optimizer', 'lr0' and 'momentum' automatically... \n",
      "\u001b[34m\u001b[1moptimizer:\u001b[0m AdamW(lr=0.00125, momentum=0.9) with parameter groups 113 weight(decay=0.0), 120 weight(decay=0.0005), 119 bias(decay=0.0)\n",
      "Image sizes 640 train, 640 val\n",
      "Using 0 dataloader workers\n",
      "Logging results to \u001b[1mruns\\detect\\train\u001b[0m\n",
      "Starting training for 100 epochs...\n",
      "\n",
      "      Epoch    GPU_mem   box_loss   cls_loss   dfl_loss  Instances       Size\n",
      "                   all         72        721      0.986     0.0485      0.154     0.0973\n"
     ]
    },
    {
     "name": "stderr",
     "output_type": "stream",
     "text": [
      "\n",
      "  0%|          | 0.00/5.34M [00:00<?, ?B/s]\n",
      " 23%|██▎       | 1.25M/5.34M [00:00<00:00, 12.3MB/s]\n",
      " 47%|████▋     | 2.50M/5.34M [00:00<00:00, 12.5MB/s]\n",
      " 70%|███████   | 3.75M/5.34M [00:00<00:00, 12.6MB/s]\n",
      " 94%|█████████▎| 5.00M/5.34M [00:00<00:00, 12.6MB/s]\n",
      "100%|██████████| 5.34M/5.34M [00:00<00:00, 12.6MB/s]\n",
      "\n",
      "\u001b[34m\u001b[1mtrain: \u001b[0mScanning C:\\trollway-detection\\training\\tollway-detection-1\\train\\labels...:   0%|          | 0/876 [00:00<?, ?it/s]\n",
      "\u001b[34m\u001b[1mtrain: \u001b[0mScanning C:\\trollway-detection\\training\\tollway-detection-1\\train\\labels... 9 images, 0 backgrounds, 0 corrupt:   1%|          | 9/876 [00:00<00:10, 79.21it/s]\n",
      "\u001b[34m\u001b[1mtrain: \u001b[0mScanning C:\\trollway-detection\\training\\tollway-detection-1\\train\\labels... 32 images, 0 backgrounds, 0 corrupt:   4%|▎         | 32/876 [00:00<00:05, 158.53it/s]\n",
      "\u001b[34m\u001b[1mtrain: \u001b[0mScanning C:\\trollway-detection\\training\\tollway-detection-1\\train\\labels... 59 images, 0 backgrounds, 0 corrupt:   7%|▋         | 59/876 [00:00<00:04, 203.60it/s]\n",
      "\u001b[34m\u001b[1mtrain: \u001b[0mScanning C:\\trollway-detection\\training\\tollway-detection-1\\train\\labels... 87 images, 0 backgrounds, 0 corrupt:  10%|▉         | 87/876 [00:00<00:03, 229.26it/s]\n",
      "\u001b[34m\u001b[1mtrain: \u001b[0mScanning C:\\trollway-detection\\training\\tollway-detection-1\\train\\labels... 114 images, 0 backgrounds, 0 corrupt:  13%|█▎        | 114/876 [00:00<00:03, 228.97it/s]\n",
      "\u001b[34m\u001b[1mtrain: \u001b[0mScanning C:\\trollway-detection\\training\\tollway-detection-1\\train\\labels... 138 images, 0 backgrounds, 0 corrupt:  16%|█▌        | 138/876 [00:00<00:03, 224.98it/s]\n",
      "\u001b[34m\u001b[1mtrain: \u001b[0mScanning C:\\trollway-detection\\training\\tollway-detection-1\\train\\labels... 163 images, 0 backgrounds, 0 corrupt:  19%|█▊        | 163/876 [00:00<00:03, 230.46it/s]\n",
      "\u001b[34m\u001b[1mtrain: \u001b[0mScanning C:\\trollway-detection\\training\\tollway-detection-1\\train\\labels... 189 images, 0 backgrounds, 0 corrupt:  22%|██▏       | 189/876 [00:00<00:02, 239.23it/s]\n",
      "\u001b[34m\u001b[1mtrain: \u001b[0mScanning C:\\trollway-detection\\training\\tollway-detection-1\\train\\labels... 217 images, 0 backgrounds, 0 corrupt:  25%|██▍       | 217/876 [00:00<00:02, 247.20it/s]\n",
      "\u001b[34m\u001b[1mtrain: \u001b[0mScanning C:\\trollway-detection\\training\\tollway-detection-1\\train\\labels... 244 images, 0 backgrounds, 0 corrupt:  28%|██▊       | 244/876 [00:01<00:02, 251.25it/s]\n",
      "\u001b[34m\u001b[1mtrain: \u001b[0mScanning C:\\trollway-detection\\training\\tollway-detection-1\\train\\labels... 270 images, 0 backgrounds, 0 corrupt:  31%|███       | 270/876 [00:01<00:02, 229.56it/s]\n",
      "\u001b[34m\u001b[1mtrain: \u001b[0mScanning C:\\trollway-detection\\training\\tollway-detection-1\\train\\labels... 294 images, 0 backgrounds, 0 corrupt:  34%|███▎      | 294/876 [00:01<00:02, 225.99it/s]\n",
      "\u001b[34m\u001b[1mtrain: \u001b[0mScanning C:\\trollway-detection\\training\\tollway-detection-1\\train\\labels... 317 images, 0 backgrounds, 0 corrupt:  36%|███▌      | 317/876 [00:01<00:02, 215.41it/s]\n",
      "\u001b[34m\u001b[1mtrain: \u001b[0mScanning C:\\trollway-detection\\training\\tollway-detection-1\\train\\labels... 340 images, 0 backgrounds, 0 corrupt:  39%|███▉      | 340/876 [00:01<00:02, 218.61it/s]\n",
      "\u001b[34m\u001b[1mtrain: \u001b[0mScanning C:\\trollway-detection\\training\\tollway-detection-1\\train\\labels... 367 images, 0 backgrounds, 0 corrupt:  42%|████▏     | 367/876 [00:01<00:02, 226.67it/s]\n",
      "\u001b[34m\u001b[1mtrain: \u001b[0mScanning C:\\trollway-detection\\training\\tollway-detection-1\\train\\labels... 393 images, 0 backgrounds, 0 corrupt:  45%|████▍     | 393/876 [00:01<00:02, 232.97it/s]\n",
      "\u001b[34m\u001b[1mtrain: \u001b[0mScanning C:\\trollway-detection\\training\\tollway-detection-1\\train\\labels... 417 images, 0 backgrounds, 0 corrupt:  48%|████▊     | 417/876 [00:01<00:01, 230.85it/s]\n",
      "\u001b[34m\u001b[1mtrain: \u001b[0mScanning C:\\trollway-detection\\training\\tollway-detection-1\\train\\labels... 441 images, 0 backgrounds, 0 corrupt:  50%|█████     | 441/876 [00:01<00:02, 208.39it/s]\n",
      "\u001b[34m\u001b[1mtrain: \u001b[0mScanning C:\\trollway-detection\\training\\tollway-detection-1\\train\\labels... 463 images, 0 backgrounds, 0 corrupt:  53%|█████▎    | 463/876 [00:02<00:01, 209.99it/s]\n",
      "\u001b[34m\u001b[1mtrain: \u001b[0mScanning C:\\trollway-detection\\training\\tollway-detection-1\\train\\labels... 487 images, 0 backgrounds, 0 corrupt:  56%|█████▌    | 487/876 [00:02<00:01, 210.52it/s]\n",
      "\u001b[34m\u001b[1mtrain: \u001b[0mScanning C:\\trollway-detection\\training\\tollway-detection-1\\train\\labels... 509 images, 0 backgrounds, 0 corrupt:  58%|█████▊    | 509/876 [00:02<00:01, 208.93it/s]\n",
      "\u001b[34m\u001b[1mtrain: \u001b[0mScanning C:\\trollway-detection\\training\\tollway-detection-1\\train\\labels... 531 images, 0 backgrounds, 0 corrupt:  61%|██████    | 531/876 [00:02<00:01, 184.85it/s]\n",
      "\u001b[34m\u001b[1mtrain: \u001b[0mScanning C:\\trollway-detection\\training\\tollway-detection-1\\train\\labels... 551 images, 0 backgrounds, 0 corrupt:  63%|██████▎   | 551/876 [00:02<00:01, 179.68it/s]\n",
      "\u001b[34m\u001b[1mtrain: \u001b[0mScanning C:\\trollway-detection\\training\\tollway-detection-1\\train\\labels... 570 images, 0 backgrounds, 0 corrupt:  65%|██████▌   | 570/876 [00:02<00:01, 178.27it/s]\n",
      "\u001b[34m\u001b[1mtrain: \u001b[0mScanning C:\\trollway-detection\\training\\tollway-detection-1\\train\\labels... 589 images, 0 backgrounds, 0 corrupt:  67%|██████▋   | 589/876 [00:02<00:01, 171.31it/s]\n",
      "\u001b[34m\u001b[1mtrain: \u001b[0mScanning C:\\trollway-detection\\training\\tollway-detection-1\\train\\labels... 607 images, 0 backgrounds, 0 corrupt:  69%|██████▉   | 607/876 [00:02<00:01, 147.63it/s]\n",
      "\u001b[34m\u001b[1mtrain: \u001b[0mScanning C:\\trollway-detection\\training\\tollway-detection-1\\train\\labels... 623 images, 0 backgrounds, 0 corrupt:  71%|███████   | 623/876 [00:03<00:01, 147.46it/s]\n",
      "\u001b[34m\u001b[1mtrain: \u001b[0mScanning C:\\trollway-detection\\training\\tollway-detection-1\\train\\labels... 640 images, 0 backgrounds, 0 corrupt:  73%|███████▎  | 640/876 [00:03<00:01, 147.44it/s]\n",
      "\u001b[34m\u001b[1mtrain: \u001b[0mScanning C:\\trollway-detection\\training\\tollway-detection-1\\train\\labels... 669 images, 0 backgrounds, 0 corrupt:  76%|███████▋  | 669/876 [00:03<00:01, 182.61it/s]\n",
      "\u001b[34m\u001b[1mtrain: \u001b[0mScanning C:\\trollway-detection\\training\\tollway-detection-1\\train\\labels... 688 images, 0 backgrounds, 0 corrupt:  79%|███████▊  | 688/876 [00:03<00:01, 174.57it/s]\n",
      "\u001b[34m\u001b[1mtrain: \u001b[0mScanning C:\\trollway-detection\\training\\tollway-detection-1\\train\\labels... 706 images, 0 backgrounds, 0 corrupt:  81%|████████  | 706/876 [00:03<00:00, 173.09it/s]\n",
      "\u001b[34m\u001b[1mtrain: \u001b[0mScanning C:\\trollway-detection\\training\\tollway-detection-1\\train\\labels... 724 images, 0 backgrounds, 0 corrupt:  83%|████████▎ | 724/876 [00:03<00:00, 168.95it/s]\n",
      "\u001b[34m\u001b[1mtrain: \u001b[0mScanning C:\\trollway-detection\\training\\tollway-detection-1\\train\\labels... 747 images, 0 backgrounds, 0 corrupt:  85%|████████▌ | 747/876 [00:03<00:00, 183.19it/s]\n",
      "\u001b[34m\u001b[1mtrain: \u001b[0mScanning C:\\trollway-detection\\training\\tollway-detection-1\\train\\labels... 766 images, 0 backgrounds, 0 corrupt:  87%|████████▋ | 766/876 [00:03<00:00, 140.05it/s]\n",
      "\u001b[34m\u001b[1mtrain: \u001b[0mScanning C:\\trollway-detection\\training\\tollway-detection-1\\train\\labels... 796 images, 0 backgrounds, 0 corrupt:  91%|█████████ | 796/876 [00:04<00:00, 172.33it/s]\n",
      "\u001b[34m\u001b[1mtrain: \u001b[0mScanning C:\\trollway-detection\\training\\tollway-detection-1\\train\\labels... 817 images, 3 backgrounds, 0 corrupt:  93%|█████████▎| 817/876 [00:04<00:00, 167.95it/s]\n",
      "\u001b[34m\u001b[1mtrain: \u001b[0mScanning C:\\trollway-detection\\training\\tollway-detection-1\\train\\labels... 839 images, 3 backgrounds, 0 corrupt:  96%|█████████▌| 839/876 [00:04<00:00, 173.06it/s]\n",
      "\u001b[34m\u001b[1mtrain: \u001b[0mScanning C:\\trollway-detection\\training\\tollway-detection-1\\train\\labels... 858 images, 3 backgrounds, 0 corrupt:  98%|█████████▊| 858/876 [00:04<00:00, 171.04it/s]\n",
      "\u001b[34m\u001b[1mtrain: \u001b[0mScanning C:\\trollway-detection\\training\\tollway-detection-1\\train\\labels... 876 images, 3 backgrounds, 0 corrupt: 100%|██████████| 876/876 [00:04<00:00, 193.76it/s]\n",
      "\n",
      "\u001b[34m\u001b[1mval: \u001b[0mScanning C:\\trollway-detection\\training\\tollway-detection-1\\valid\\labels...:   0%|          | 0/72 [00:00<?, ?it/s]\n",
      "\u001b[34m\u001b[1mval: \u001b[0mScanning C:\\trollway-detection\\training\\tollway-detection-1\\valid\\labels... 17 images, 0 backgrounds, 0 corrupt:  24%|██▎       | 17/72 [00:00<00:00, 155.26it/s]\n",
      "\u001b[34m\u001b[1mval: \u001b[0mScanning C:\\trollway-detection\\training\\tollway-detection-1\\valid\\labels... 36 images, 0 backgrounds, 0 corrupt:  50%|█████     | 36/72 [00:00<00:00, 169.59it/s]\n",
      "\u001b[34m\u001b[1mval: \u001b[0mScanning C:\\trollway-detection\\training\\tollway-detection-1\\valid\\labels... 60 images, 0 backgrounds, 0 corrupt:  83%|████████▎ | 60/72 [00:00<00:00, 182.31it/s]\n",
      "\u001b[34m\u001b[1mval: \u001b[0mScanning C:\\trollway-detection\\training\\tollway-detection-1\\valid\\labels... 72 images, 0 backgrounds, 0 corrupt: 100%|██████████| 72/72 [00:00<00:00, 194.39it/s]\n",
      "\n",
      "  0%|          | 0/55 [00:00<?, ?it/s]\n",
      "      1/100         0G       1.62      3.882      1.247        196        640:   0%|          | 0/55 [00:21<?, ?it/s]\n",
      "      1/100         0G       1.62      3.882      1.247        196        640:   2%|▏         | 1/55 [00:21<19:00, 21.12s/it]\n",
      "      1/100         0G      1.649      3.912      1.237        246        640:   2%|▏         | 1/55 [00:34<19:00, 21.12s/it]\n",
      "      1/100         0G      1.649      3.912      1.237        246        640:   4%|▎         | 2/55 [00:34<14:33, 16.48s/it]\n",
      "      1/100         0G      1.634      3.924      1.232        165        640:   4%|▎         | 2/55 [00:47<14:33, 16.48s/it]\n",
      "      1/100         0G      1.634      3.924      1.232        165        640:   5%|▌         | 3/55 [00:47<12:51, 14.83s/it]\n",
      "      1/100         0G      1.702      3.957      1.255        187        640:   5%|▌         | 3/55 [01:02<12:51, 14.83s/it]\n",
      "      1/100         0G      1.702      3.957      1.255        187        640:   7%|▋         | 4/55 [01:02<12:37, 14.86s/it]\n",
      "      1/100         0G       1.69      3.944      1.248        232        640:   7%|▋         | 4/55 [01:15<12:37, 14.86s/it]\n",
      "      1/100         0G       1.69      3.944      1.248        232        640:   9%|▉         | 5/55 [01:15<12:04, 14.49s/it]\n",
      "      1/100         0G      1.665      3.945       1.23        211        640:   9%|▉         | 5/55 [01:29<12:04, 14.49s/it]\n",
      "      1/100         0G      1.665      3.945       1.23        211        640:  11%|█         | 6/55 [01:29<11:39, 14.27s/it]\n",
      "      1/100         0G      1.627      3.933      1.209        255        640:  11%|█         | 6/55 [01:43<11:39, 14.27s/it]\n",
      "      1/100         0G      1.627      3.933      1.209        255        640:  13%|█▎        | 7/55 [01:43<11:15, 14.07s/it]\n",
      "      1/100         0G      1.609      3.932      1.194        266        640:  13%|█▎        | 7/55 [01:55<11:15, 14.07s/it]\n",
      "      1/100         0G      1.609      3.932      1.194        266        640:  15%|█▍        | 8/55 [01:55<10:33, 13.48s/it]\n",
      "      1/100         0G      1.589      3.925      1.181        265        640:  15%|█▍        | 8/55 [02:07<10:33, 13.48s/it]\n",
      "      1/100         0G      1.589      3.925      1.181        265        640:  16%|█▋        | 9/55 [02:07<10:00, 13.06s/it]\n",
      "      1/100         0G      1.584      3.909      1.176        171        640:  16%|█▋        | 9/55 [02:21<10:00, 13.06s/it]\n",
      "      1/100         0G      1.584      3.909      1.176        171        640:  18%|█▊        | 10/55 [02:21<09:55, 13.24s/it]\n",
      "      1/100         0G      1.572      3.893      1.165        172        640:  18%|█▊        | 10/55 [02:34<09:55, 13.24s/it]\n",
      "      1/100         0G      1.572      3.893      1.165        172        640:  20%|██        | 11/55 [02:34<09:36, 13.10s/it]\n",
      "      1/100         0G       1.57      3.874      1.154        214        640:  20%|██        | 11/55 [02:45<09:36, 13.10s/it]\n",
      "      1/100         0G       1.57      3.874      1.154        214        640:  22%|██▏       | 12/55 [02:45<09:01, 12.59s/it]\n",
      "      1/100         0G      1.569      3.849      1.146        234        640:  22%|██▏       | 12/55 [02:56<09:01, 12.59s/it]\n",
      "      1/100         0G      1.569      3.849      1.146        234        640:  24%|██▎       | 13/55 [02:56<08:25, 12.04s/it]\n",
      "      1/100         0G       1.56      3.815      1.137        194        640:  24%|██▎       | 13/55 [03:06<08:25, 12.04s/it]\n",
      "      1/100         0G       1.56      3.815      1.137        194        640:  25%|██▌       | 14/55 [03:06<07:53, 11.56s/it]\n",
      "      1/100         0G      1.549      3.787      1.128        279        640:  25%|██▌       | 14/55 [03:17<07:53, 11.56s/it]\n",
      "      1/100         0G      1.549      3.787      1.128        279        640:  27%|██▋       | 15/55 [03:17<07:31, 11.30s/it]\n",
      "      1/100         0G      1.543      3.754      1.119        272        640:  27%|██▋       | 15/55 [03:27<07:31, 11.30s/it]\n",
      "      1/100         0G      1.543      3.754      1.119        272        640:  29%|██▉       | 16/55 [03:27<07:09, 11.02s/it]\n",
      "      1/100         0G      1.543      3.723      1.113        230        640:  29%|██▉       | 16/55 [03:38<07:09, 11.02s/it]\n",
      "      1/100         0G      1.543      3.723      1.113        230        640:  31%|███       | 17/55 [03:38<06:52, 10.86s/it]\n",
      "      1/100         0G      1.537      3.692      1.106        220        640:  31%|███       | 17/55 [03:48<06:52, 10.86s/it]\n",
      "      1/100         0G      1.537      3.692      1.106        220        640:  33%|███▎      | 18/55 [03:48<06:32, 10.61s/it]\n",
      "      1/100         0G      1.534      3.658      1.099        308        640:  33%|███▎      | 18/55 [03:58<06:32, 10.61s/it]\n",
      "      1/100         0G      1.534      3.658      1.099        308        640:  35%|███▍      | 19/55 [03:58<06:12, 10.35s/it]\n",
      "      1/100         0G      1.537      3.627      1.096        263        640:  35%|███▍      | 19/55 [04:08<06:12, 10.35s/it]\n",
      "      1/100         0G      1.537      3.627      1.096        263        640:  36%|███▋      | 20/55 [04:08<05:58, 10.24s/it]\n",
      "      1/100         0G      1.531       3.59      1.091        289        640:  36%|███▋      | 20/55 [04:18<05:58, 10.24s/it]\n",
      "      1/100         0G      1.531       3.59      1.091        289        640:  38%|███▊      | 21/55 [04:18<05:49, 10.28s/it]\n",
      "      1/100         0G       1.53      3.553      1.088        221        640:  38%|███▊      | 21/55 [04:28<05:49, 10.28s/it]\n",
      "      1/100         0G       1.53      3.553      1.088        221        640:  40%|████      | 22/55 [04:28<05:36, 10.19s/it]\n",
      "      1/100         0G      1.529      3.514      1.084        273        640:  40%|████      | 22/55 [04:37<05:36, 10.19s/it]\n",
      "      1/100         0G      1.529      3.514      1.084        273        640:  42%|████▏     | 23/55 [04:37<05:14,  9.84s/it]\n",
      "      1/100         0G       1.53      3.478      1.081        251        640:  42%|████▏     | 23/55 [04:47<05:14,  9.84s/it]\n",
      "      1/100         0G       1.53      3.478      1.081        251        640:  44%|████▎     | 24/55 [04:47<05:02,  9.75s/it]\n",
      "      1/100         0G      1.529      3.439      1.078        274        640:  44%|████▎     | 24/55 [04:56<05:02,  9.75s/it]\n",
      "      1/100         0G      1.529      3.439      1.078        274        640:  45%|████▌     | 25/55 [04:56<04:48,  9.62s/it]\n",
      "      1/100         0G      1.529      3.398      1.075        246        640:  45%|████▌     | 25/55 [05:07<04:48,  9.62s/it]\n",
      "      1/100         0G      1.529      3.398      1.075        246        640:  47%|████▋     | 26/55 [05:07<04:49,  9.97s/it]\n",
      "      1/100         0G      1.528      3.355      1.074        242        640:  47%|████▋     | 26/55 [05:16<04:49,  9.97s/it]\n",
      "      1/100         0G      1.528      3.355      1.074        242        640:  49%|████▉     | 27/55 [05:16<04:29,  9.64s/it]\n",
      "      1/100         0G      1.527      3.307      1.073        212        640:  49%|████▉     | 27/55 [05:26<04:29,  9.64s/it]\n",
      "      1/100         0G      1.527      3.307      1.073        212        640:  51%|█████     | 28/55 [05:26<04:25,  9.83s/it]\n",
      "      1/100         0G      1.533      3.272      1.076        226        640:  51%|█████     | 28/55 [05:36<04:25,  9.83s/it]\n",
      "      1/100         0G      1.533      3.272      1.076        226        640:  53%|█████▎    | 29/55 [05:36<04:16,  9.86s/it]\n",
      "      1/100         0G      1.537      3.234      1.075        286        640:  53%|█████▎    | 29/55 [05:45<04:16,  9.86s/it]\n",
      "      1/100         0G      1.537      3.234      1.075        286        640:  55%|█████▍    | 30/55 [05:45<04:00,  9.64s/it]\n",
      "      1/100         0G      1.541      3.195      1.077        205        640:  55%|█████▍    | 30/55 [05:55<04:00,  9.64s/it]\n",
      "      1/100         0G      1.541      3.195      1.077        205        640:  56%|█████▋    | 31/55 [05:55<03:53,  9.71s/it]\n",
      "      1/100         0G      1.538      3.161      1.077        271        640:  56%|█████▋    | 31/55 [06:04<03:53,  9.71s/it]\n",
      "      1/100         0G      1.538      3.161      1.077        271        640:  58%|█████▊    | 32/55 [06:04<03:38,  9.48s/it]\n",
      "      1/100         0G      1.538      3.123      1.076        208        640:  58%|█████▊    | 32/55 [06:13<03:38,  9.48s/it]\n",
      "      1/100         0G      1.538      3.123      1.076        208        640:  60%|██████    | 33/55 [06:13<03:27,  9.43s/it]\n",
      "      1/100         0G      1.542      3.091      1.077        242        640:  60%|██████    | 33/55 [06:22<03:27,  9.43s/it]\n",
      "      1/100         0G      1.542      3.091      1.077        242        640:  62%|██████▏   | 34/55 [06:22<03:14,  9.27s/it]\n",
      "      1/100         0G      1.546       3.06      1.078        235        640:  62%|██████▏   | 34/55 [06:31<03:14,  9.27s/it]\n",
      "      1/100         0G      1.546       3.06      1.078        235        640:  64%|██████▎   | 35/55 [06:31<03:05,  9.28s/it]\n",
      "      1/100         0G      1.547      3.026      1.077        188        640:  64%|██████▎   | 35/55 [06:42<03:05,  9.28s/it]\n",
      "      1/100         0G      1.547      3.026      1.077        188        640:  65%|██████▌   | 36/55 [06:42<03:02,  9.61s/it]\n",
      "      1/100         0G      1.545       2.99      1.076        214        640:  65%|██████▌   | 36/55 [06:51<03:02,  9.61s/it]\n",
      "      1/100         0G      1.545       2.99      1.076        214        640:  67%|██████▋   | 37/55 [06:51<02:49,  9.41s/it]\n",
      "      1/100         0G      1.543      2.961      1.076        140        640:  67%|██████▋   | 37/55 [07:01<02:49,  9.41s/it]\n",
      "      1/100         0G      1.543      2.961      1.076        140        640:  69%|██████▉   | 38/55 [07:01<02:43,  9.63s/it]\n",
      "      1/100         0G       1.54       2.93      1.074        290        640:  69%|██████▉   | 38/55 [07:11<02:43,  9.63s/it]\n",
      "      1/100         0G       1.54       2.93      1.074        290        640:  71%|███████   | 39/55 [07:11<02:35,  9.70s/it]\n",
      "      1/100         0G      1.538        2.9      1.072        264        640:  71%|███████   | 39/55 [07:21<02:35,  9.70s/it]\n",
      "      1/100         0G      1.538        2.9      1.072        264        640:  73%|███████▎  | 40/55 [07:21<02:29,  9.95s/it]\n",
      "      1/100         0G      1.534      2.868      1.071        225        640:  73%|███████▎  | 40/55 [07:31<02:29,  9.95s/it]\n",
      "      1/100         0G      1.534      2.868      1.071        225        640:  75%|███████▍  | 41/55 [07:31<02:18,  9.87s/it]\n",
      "      1/100         0G      1.533      2.836      1.071        203        640:  75%|███████▍  | 41/55 [07:42<02:18,  9.87s/it]\n",
      "      1/100         0G      1.533      2.836      1.071        203        640:  76%|███████▋  | 42/55 [07:42<02:13, 10.29s/it]\n",
      "      1/100         0G      1.534      2.809      1.072        187        640:  76%|███████▋  | 42/55 [07:52<02:13, 10.29s/it]\n",
      "      1/100         0G      1.534      2.809      1.072        187        640:  78%|███████▊  | 43/55 [07:52<02:03, 10.27s/it]\n",
      "      1/100         0G      1.533      2.779      1.072        171        640:  78%|███████▊  | 43/55 [08:03<02:03, 10.27s/it]\n",
      "      1/100         0G      1.533      2.779      1.072        171        640:  80%|████████  | 44/55 [08:03<01:53, 10.36s/it]\n",
      "      1/100         0G      1.532      2.756      1.072        233        640:  80%|████████  | 44/55 [08:13<01:53, 10.36s/it]\n",
      "      1/100         0G      1.532      2.756      1.072        233        640:  82%|████████▏ | 45/55 [08:13<01:42, 10.26s/it]\n",
      "      1/100         0G      1.532       2.73      1.072        209        640:  82%|████████▏ | 45/55 [08:22<01:42, 10.26s/it]\n",
      "      1/100         0G      1.532       2.73      1.072        209        640:  84%|████████▎ | 46/55 [08:22<01:28,  9.84s/it]\n",
      "      1/100         0G      1.533      2.703      1.072        255        640:  84%|████████▎ | 46/55 [08:30<01:28,  9.84s/it]\n",
      "      1/100         0G      1.533      2.703      1.072        255        640:  85%|████████▌ | 47/55 [08:30<01:15,  9.48s/it]\n",
      "      1/100         0G      1.536      2.684      1.076        203        640:  85%|████████▌ | 47/55 [08:39<01:15,  9.48s/it]\n",
      "      1/100         0G      1.536      2.684      1.076        203        640:  87%|████████▋ | 48/55 [08:39<01:05,  9.29s/it]\n",
      "      1/100         0G      1.535      2.663      1.076        209        640:  87%|████████▋ | 48/55 [08:48<01:05,  9.29s/it]\n",
      "      1/100         0G      1.535      2.663      1.076        209        640:  89%|████████▉ | 49/55 [08:48<00:54,  9.05s/it]\n",
      "      1/100         0G      1.532      2.641      1.074        297        640:  89%|████████▉ | 49/55 [08:57<00:54,  9.05s/it]\n",
      "      1/100         0G      1.532      2.641      1.074        297        640:  91%|█████████ | 50/55 [08:57<00:44,  8.98s/it]\n",
      "      1/100         0G      1.531       2.62      1.076        205        640:  91%|█████████ | 50/55 [09:05<00:44,  8.98s/it]\n",
      "      1/100         0G      1.531       2.62      1.076        205        640:  93%|█████████▎| 51/55 [09:05<00:35,  8.81s/it]\n",
      "      1/100         0G      1.529      2.597      1.075        280        640:  93%|█████████▎| 51/55 [09:14<00:35,  8.81s/it]\n",
      "      1/100         0G      1.529      2.597      1.075        280        640:  95%|█████████▍| 52/55 [09:14<00:26,  8.81s/it]\n",
      "      1/100         0G      1.526      2.574      1.074        266        640:  95%|█████████▍| 52/55 [09:22<00:26,  8.81s/it]\n",
      "      1/100         0G      1.526      2.574      1.074        266        640:  96%|█████████▋| 53/55 [09:22<00:17,  8.75s/it]\n",
      "      1/100         0G      1.524      2.556      1.073        280        640:  96%|█████████▋| 53/55 [09:31<00:17,  8.75s/it]\n",
      "      1/100         0G      1.524      2.556      1.073        280        640:  98%|█████████▊| 54/55 [09:31<00:08,  8.78s/it]\n",
      "      1/100         0G      1.522      2.537      1.074        164        640:  98%|█████████▊| 54/55 [09:38<00:08,  8.78s/it]\n",
      "      1/100         0G      1.522      2.537      1.074        164        640: 100%|██████████| 55/55 [09:38<00:00,  8.10s/it]\n",
      "      1/100         0G      1.522      2.537      1.074        164        640: 100%|██████████| 55/55 [09:38<00:00, 10.51s/it]\n",
      "\n",
      "                 Class     Images  Instances      Box(P          R      mAP50  mAP50-95):   0%|          | 0/3 [00:00<?, ?it/s]\n",
      "                 Class     Images  Instances      Box(P          R      mAP50  mAP50-95):  33%|███▎      | 1/3 [00:07<00:15,  7.62s/it]\n",
      "                 Class     Images  Instances      Box(P          R      mAP50  mAP50-95):  67%|██████▋   | 2/3 [00:14<00:07,  7.26s/it]\n",
      "                 Class     Images  Instances      Box(P          R      mAP50  mAP50-95): 100%|██████████| 3/3 [00:16<00:00,  4.62s/it]\n",
      "                 Class     Images  Instances      Box(P          R      mAP50  mAP50-95): 100%|██████████| 3/3 [00:16<00:00,  5.37s/it]\n",
      "Traceback (most recent call last):\n",
      "  File \"<frozen runpy>\", line 198, in _run_module_as_main\n",
      "  File \"<frozen runpy>\", line 88, in _run_code\n",
      "  File \"c:\\trollway-detection\\env\\Scripts\\yolo.exe\\__main__.py\", line 7, in <module>\n",
      "  File \"C:\\trollway-detection\\env\\Lib\\site-packages\\ultralytics\\cfg\\__init__.py\", line 986, in entrypoint\n",
      "    getattr(model, mode)(**overrides)  # default args from model\n",
      "    ^^^^^^^^^^^^^^^^^^^^^^^^^^^^^^^^^\n",
      "  File \"C:\\trollway-detection\\env\\Lib\\site-packages\\ultralytics\\engine\\model.py\", line 810, in train\n",
      "    self.trainer.train()\n",
      "  File \"C:\\trollway-detection\\env\\Lib\\site-packages\\ultralytics\\engine\\trainer.py\", line 208, in train\n",
      "    self._do_train(world_size)\n",
      "  File \"C:\\trollway-detection\\env\\Lib\\site-packages\\ultralytics\\engine\\trainer.py\", line 434, in _do_train\n",
      "    self.save_metrics(metrics={**self.label_loss_items(self.tloss), **self.metrics, **self.lr})\n",
      "  File \"C:\\trollway-detection\\env\\Lib\\site-packages\\ultralytics\\engine\\trainer.py\", line 669, in save_metrics\n",
      "    with open(self.csv, \"a\") as f:\n",
      "         ^^^^^^^^^^^^^^^^^^^\n",
      "FileNotFoundError: [Errno 2] No such file or directory: 'runs\\\\detect\\\\train\\\\results.csv'\n"
     ]
    }
   ],
   "source": [
    "!yolo task=detect mode=train model=yolo12n.pt data={dataset.location}/data.yaml epochs=100 imgsz=640"
   ]
  },
  {
   "cell_type": "markdown",
   "metadata": {},
   "source": [
    "# Test model"
   ]
  },
  {
   "cell_type": "code",
   "execution_count": 13,
   "metadata": {},
   "outputs": [
    {
     "name": "stdout",
     "output_type": "stream",
     "text": [
      "Ultralytics 8.3.85  Python-3.12.3 torch-2.6.0+cpu CPU (AMD Ryzen 7 4800H with Radeon Graphics)\n",
      "YOLOv12n summary (fused): 159 layers, 2,557,508 parameters, 0 gradients, 6.3 GFLOPs\n"
     ]
    },
    {
     "name": "stderr",
     "output_type": "stream",
     "text": [
      "\u001b[34m\u001b[1mval: \u001b[0mScanning C:\\trollway-detection\\training\\tollway-detection-1\\test\\labels... 91 images, 0 backgrounds, 0 corrupt: 100%|██████████| 91/91 [00:00<00:00, 247.47it/s]"
     ]
    },
    {
     "name": "stdout",
     "output_type": "stream",
     "text": [
      "\u001b[34m\u001b[1mval: \u001b[0mNew cache created: C:\\trollway-detection\\training\\tollway-detection-1\\test\\labels.cache\n",
      "WARNING  Box and segment counts should be equal, but got len(segments) = 7, len(boxes) = 792. To resolve this only boxes will be used and all segments will be removed. To avoid this please supply either a detect or segment dataset, not a detect-segment mixed dataset.\n"
     ]
    },
    {
     "name": "stderr",
     "output_type": "stream",
     "text": [
      "\n",
      "                 Class     Images  Instances      Box(P          R      mAP50  mAP50-95): 100%|██████████| 6/6 [00:11<00:00,  1.96s/it]\n"
     ]
    },
    {
     "name": "stdout",
     "output_type": "stream",
     "text": [
      "                   all         91        792      0.451      0.519      0.422      0.145\n",
      "               2-Wheel         74        136      0.601      0.632      0.557      0.152\n",
      "               4-Wheel         91        639      0.685       0.69      0.675       0.26\n",
      "               6-wheel         15         17     0.0661      0.235     0.0335     0.0215\n",
      "Speed: 1.8ms preprocess, 114.3ms inference, 0.0ms loss, 0.4ms postprocess per image\n",
      "Results saved to \u001b[1mruns\\detect\\val4\u001b[0m\n",
      "mAP50: 0.4220\n",
      "mAP50-95: 0.1445\n"
     ]
    }
   ],
   "source": [
    "from ultralytics import YOLO\n",
    "import seaborn as sns\n",
    "import numpy as np\n",
    "\n",
    "# Load the model\n",
    "model = YOLO(\"../models/vehicle_tracker_model.pt\")\n",
    "\n",
    "# Run evaluation on the validation set\n",
    "results = model.val(data=f\"{dataset.location}/data.yaml\")\n",
    "\n",
    "# Display evaluation metrics\n",
    "print(f\"mAP50: {results.box.map50:.4f}\")\n",
    "print(f\"mAP50-95: {results.box.map:.4f}\")"
   ]
  }
 ],
 "metadata": {
  "kernelspec": {
   "display_name": "env",
   "language": "python",
   "name": "python3"
  },
  "language_info": {
   "codemirror_mode": {
    "name": "ipython",
    "version": 3
   },
   "file_extension": ".py",
   "mimetype": "text/x-python",
   "name": "python",
   "nbconvert_exporter": "python",
   "pygments_lexer": "ipython3",
   "version": "3.12.3"
  }
 },
 "nbformat": 4,
 "nbformat_minor": 2
}
